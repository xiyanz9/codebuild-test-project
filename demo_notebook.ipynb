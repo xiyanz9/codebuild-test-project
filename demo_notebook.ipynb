{
 "cells": [
  {
   "cell_type": "markdown",
   "id": "c5d74cef",
   "metadata": {},
   "source": [
    "# CodeBuild Sandbox Jupyter Demo\n",
    "This notebook demonstrates Python execution, variable reuse, and plotting inside a CodeBuild sandbox Jupyter server."
   ]
  },
  {
   "cell_type": "code",
   "execution_count": null,
   "id": "3163e68e",
   "metadata": {},
   "outputs": [],
   "source": [
    "import numpy as np\n",
    "import matplotlib.pyplot as plt"
   ]
  },
  {
   "cell_type": "code",
   "execution_count": null,
   "id": "10e8c149",
   "metadata": {},
   "outputs": [],
   "source": [
    "x = np.linspace(0, 10, 100)\n",
    "y = np.sin(x)"
   ]
  },
  {
   "cell_type": "code",
   "execution_count": null,
   "id": "7f47d9e3",
   "metadata": {},
   "outputs": [],
   "source": [
    "plt.figure(figsize=(8, 4))\n",
    "plt.plot(x, y, label='sin(x)')\n",
    "plt.title(\"Sine Wave\")\n",
    "plt.xlabel(\"x\")\n",
    "plt.ylabel(\"sin(x)\")\n",
    "plt.legend()\n",
    "plt.grid(True)\n",
    "plt.show()"
   ]
  },
  {
   "cell_type": "code",
   "execution_count": null,
   "id": "1707fe6d",
   "metadata": {},
   "outputs": [],
   "source": [
    "y_squared = y**2\n",
    "print(\"Mean of y^2:\", np.mean(y_squared))"
   ]
  }
 ],
 "metadata": {
  "language_info": {
   "name": "python"
  }
 },
 "nbformat": 4,
 "nbformat_minor": 5
}
